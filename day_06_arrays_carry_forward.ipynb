{
 "cells": [
  {
   "cell_type": "markdown",
   "id": "4e18ed5b-3a84-40ba-87cd-14a18088c558",
   "metadata": {},
   "source": [
    "# ARRAYS CARRY FORWARD"
   ]
  },
  {
   "cell_type": "markdown",
   "id": "8570a8d4-4994-4d85-84ec-59b605b56437",
   "metadata": {},
   "source": [
    "## Q1 COUNT GOOD PAIRS GIVEN A STRING S (ALL LETTERS ARE LOWER CASE ) COUNT THE NUMBER OF PAIRS (i,j) SUCH THAT i<j  ANS S[i]='a' and S[j]='g'"
   ]
  },
  {
   "cell_type": "code",
   "execution_count": 15,
   "id": "75068570-3fc7-4407-aaf5-00669a8080d0",
   "metadata": {},
   "outputs": [
    {
     "name": "stdout",
     "output_type": "stream",
     "text": [
      "7\n",
      "0\n"
     ]
    }
   ],
   "source": [
    "def countGoodPairs(s):\n",
    "    if len(s)<=1:\n",
    "        return 0\n",
    "    else:\n",
    "        count=0\n",
    "        for i in range(len(s)):\n",
    "            if s[i]=='a':\n",
    "                for j in range(i+1,len(s)):\n",
    "                    if s[j]=='g':\n",
    "                        count+=1\n",
    "        return count\n",
    "print(countGoodPairs('baxaghygxag'))\n",
    "print(countGoodPairs(''))"
   ]
  },
  {
   "cell_type": "markdown",
   "id": "3c5281e0-100f-4fff-ab2d-4ad8cb6c33bb",
   "metadata": {},
   "source": [
    "## Time complexity of countGoodPairs is O(N2) AND space complexity O(1)"
   ]
  },
  {
   "cell_type": "code",
   "execution_count": 34,
   "id": "d51c8ed1-5c4a-440a-a0d9-c184ffaa89d3",
   "metadata": {},
   "outputs": [
    {
     "name": "stdout",
     "output_type": "stream",
     "text": [
      "[0, 1, 1, 1, 2, 3, 3, 3, 3, 3, 4, 4]\n",
      "[4, 4, 3, 3, 3, 3, 3, 2, 1, 1, 1, 0]\n",
      "8\n"
     ]
    }
   ],
   "source": [
    "def OptimisedcountGoodPairs(s):\n",
    "    gCount=[]\n",
    "    count=0\n",
    "    for i in range(len(s)-1,-1,-1):\n",
    "        gCount.append(count)\n",
    "        if s[i]=='g':\n",
    "            count+=1\n",
    "    print(gCount)\n",
    "    si=0\n",
    "    e=len(s)-1\n",
    "    while(si<=e):\n",
    "        gCount[si],gCount[e]=gCount[e],gCount[si]\n",
    "        si+=1\n",
    "        e-=1\n",
    "    print(gCount)\n",
    "    numOfPairs=0\n",
    "    for j in range(len(s)):\n",
    "        if s[j]=='a':\n",
    "            numOfPairs+=gCount[j]\n",
    "    return numOfPairs\n",
    "ans=OptimisedcountGoodPairs('axgabbxggaxg')\n",
    "print(ans)"
   ]
  },
  {
   "cell_type": "markdown",
   "id": "373cc4b6-7e70-4bdc-89df-a11b5af8dfef",
   "metadata": {},
   "source": [
    "## Time Complexity of OptimisedcountGoodPairs is O(N) And Space Complexity is O(N)"
   ]
  },
  {
   "cell_type": "code",
   "execution_count": null,
   "id": "594fef61-42f1-4e35-a3f2-a9ec6bda563d",
   "metadata": {},
   "outputs": [],
   "source": [
    "def furtherOptimisedcountGoodPairs(s):\n",
    "    "
   ]
  },
  {
   "cell_type": "markdown",
   "id": "c20f6364-e22a-4f00-b9da-0fb090f2ccbd",
   "metadata": {},
   "source": [
    "## Given an Array of size n count the number of leaders in the array. \\\n",
    "## Leaders are the numbers which is strictly greater than all the elements on its right\n"
   ]
  },
  {
   "cell_type": "code",
   "execution_count": 64,
   "id": "206bebe8-c73f-4e3e-b005-e3f8abdef59c",
   "metadata": {},
   "outputs": [
    {
     "name": "stdout",
     "output_type": "stream",
     "text": [
      "4\n",
      "3\n"
     ]
    }
   ],
   "source": [
    "def countLeaderElements(arr):\n",
    "    leaderCount=0\n",
    "    for i in range(0,len(arr)):\n",
    "        isLeader=True\n",
    "        for j in range(i+1,len(arr)):\n",
    "            if arr[j]>=arr[i]:\n",
    "                isLeader=False\n",
    "        if isLeader:\n",
    "            leaderCount+=1\n",
    "    return leaderCount\n",
    "print(countLeaderElements([1,7,8,-6,0,3,-7,-10]))\n",
    "print(countLeaderElements([16,17,17,4,3,5,2]))\n",
    "                "
   ]
  },
  {
   "cell_type": "markdown",
   "id": "466d5db3-2e3a-420c-869f-eafc1fb15fcc",
   "metadata": {},
   "source": [
    "### TIME COMPLEXITY OF countLeaderElements IS O(N2) AND SPACE COMPLEXITY IS O(N)"
   ]
  },
  {
   "cell_type": "code",
   "execution_count": 71,
   "id": "13bd715d-76d4-47e0-8945-6dcf864d581d",
   "metadata": {},
   "outputs": [
    {
     "name": "stdout",
     "output_type": "stream",
     "text": [
      "4\n",
      "3\n"
     ]
    }
   ],
   "source": [
    "def optimisedcountLeaderElements(arr):\n",
    "    leaderCount=0\n",
    "    tillMax=-float('inf')\n",
    "    for i in reversed(range(len(arr))):\n",
    "        if arr[i]>tillMax:\n",
    "            leaderCount+=1\n",
    "            tillMax=arr[i]\n",
    "    return leaderCount\n",
    "print(optimisedcountLeaderElements([1,7,8,-6,0,3,-7,-10]))\n",
    "print(optimisedcountLeaderElements([16,17,17,4,3,5,2]))\n",
    "        \n",
    "        "
   ]
  },
  {
   "cell_type": "markdown",
   "id": "f85b3f3f-1cb1-4dd6-9532-8f0458a62cd5",
   "metadata": {},
   "source": [
    "### TIME COMPLEXITY OF optimisedcountLeaderElements IS O(N) AND SPACE COMPLEXITY IS O(1)"
   ]
  },
  {
   "cell_type": "markdown",
   "id": "176c2f71-a8c0-4c72-8ae5-bc5ffa42418b",
   "metadata": {},
   "source": [
    "## Print All The starting and ending indexes of Sub Arrays"
   ]
  },
  {
   "cell_type": "code",
   "execution_count": 99,
   "id": "4aafe45f-e70c-43b0-80b1-1ca751e86148",
   "metadata": {},
   "outputs": [
    {
     "name": "stdout",
     "output_type": "stream",
     "text": [
      "1,1  1,2  1,3  1,4  1,5  1,6  1,7  1,8  1,9  \n",
      "2,2  2,3  2,4  2,5  2,6  2,7  2,8  2,9  \n",
      "3,3  3,4  3,5  3,6  3,7  3,8  3,9  \n",
      "4,4  4,5  4,6  4,7  4,8  4,9  \n",
      "5,5  5,6  5,7  5,8  5,9  \n",
      "6,6  6,7  6,8  6,9  \n",
      "7,7  7,8  7,9  \n",
      "8,8  8,9  \n",
      "9,9  \n"
     ]
    }
   ],
   "source": [
    "def printStartAndEndIndexes(arr):\n",
    "    for i in range(len(arr)):\n",
    "        for j in range(i,len(arr)):\n",
    "            print(f'{arr[i]},{arr[j]}',end='  ')\n",
    "        print()\n",
    "printStartAndEndIndexes([1,2,3,4,5,6,7,8,9])"
   ]
  },
  {
   "cell_type": "markdown",
   "id": "906e4039-6f8e-472e-ac5d-db15dead1897",
   "metadata": {},
   "source": [
    "## Closest MiniMax Problem\n",
    "## Given An Array Of size N find the length of smallest sub-array, \n",
    "## which contains both min and max of the array"
   ]
  },
  {
   "cell_type": "code",
   "execution_count": 125,
   "id": "b1ef53a1-aceb-4bba-8345-f9509242bce4",
   "metadata": {},
   "outputs": [
    {
     "name": "stdout",
     "output_type": "stream",
     "text": [
      "11\n",
      "1\n",
      "2\n"
     ]
    }
   ],
   "source": [
    "def miniMaxSubArray(arr):\n",
    "    minElem=arr[0]\n",
    "    maxElem=arr[0]\n",
    "    lenofArr=float('inf')\n",
    "    for i in range(len(arr)):\n",
    "        if arr[i]>maxElem:\n",
    "            maxElem=arr[i]\n",
    "    print(maxElem)\n",
    "    for i in range(len(arr)):\n",
    "        if arr[i]<minElem:\n",
    "            minElem=arr[i]\n",
    "    print(minElem)\n",
    "    for s in range(len(arr)):\n",
    "        for e in range(s,len(arr)):\n",
    "            hasMax=False\n",
    "            hasMin=False\n",
    "            for k  in range(s,e+1):\n",
    "                if arr[k]==minElem:\n",
    "                    hasMin=True\n",
    "                if arr[k]==maxElem:\n",
    "                    hasMax=True\n",
    "            if hasMin and hasMax:\n",
    "                tempLen=e-s+1\n",
    "                if tempLen < lenofArr :\n",
    "                    lenofArr=tempLen\n",
    "    return lenofArr\n",
    "x=miniMaxSubArray([1,1,1,1,1.1,3,1,1,1,11]) \n",
    "print(x)"
   ]
  },
  {
   "cell_type": "code",
   "execution_count": 141,
   "id": "043d0efc-810f-4d9d-a786-2c8e94fd1c51",
   "metadata": {},
   "outputs": [
    {
     "name": "stdout",
     "output_type": "stream",
     "text": [
      "2\n"
     ]
    }
   ],
   "source": [
    "def OptimisedminiMaxSubArray(arr,minn,maxn):\n",
    "    minIndex=-1\n",
    "    maxIndex=-1\n",
    "    minLength=float('inf')\n",
    "    for i in range(len(arr)):\n",
    "        if arr[i]==minn:\n",
    "            minIndex=i\n",
    "            if maxIndex>-1:\n",
    "                length=minIndex-maxIndex+1\n",
    "                minLength=min(length,minLength)\n",
    "        if arr[i]==maxn:\n",
    "            maxIndex=i\n",
    "            if minIndex>-1:\n",
    "                length=maxIndex-minIndex+1\n",
    "                minLength=min(length,minLength)\n",
    "    return minLength\n",
    "x=OptimisedminiMaxSubArray([100,1,300,-10,1,-1,11],-10,300) \n",
    "print(x)\n",
    "            "
   ]
  },
  {
   "cell_type": "code",
   "execution_count": null,
   "id": "7285b115-b87d-4151-a255-3f07d5ad2828",
   "metadata": {},
   "outputs": [],
   "source": []
  }
 ],
 "metadata": {
  "kernelspec": {
   "display_name": "Python 3 (ipykernel)",
   "language": "python",
   "name": "python3"
  },
  "language_info": {
   "codemirror_mode": {
    "name": "ipython",
    "version": 3
   },
   "file_extension": ".py",
   "mimetype": "text/x-python",
   "name": "python",
   "nbconvert_exporter": "python",
   "pygments_lexer": "ipython3",
   "version": "3.11.7"
  }
 },
 "nbformat": 4,
 "nbformat_minor": 5
}
