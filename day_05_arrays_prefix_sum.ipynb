{
 "cells": [
  {
   "cell_type": "markdown",
   "id": "44af1857-2849-4927-8e1e-ae52f005bd64",
   "metadata": {},
   "source": [
    "# PREFIX SUM"
   ]
  },
  {
   "cell_type": "markdown",
   "id": "ff9703c8-003c-412a-be58-df4b9a28d366",
   "metadata": {},
   "source": [
    "GIVEN AN ARRAY OF SIZE N RETURN TRUE IF THERE IS AN EQUILIBRIUM INDEX THEN RETURN TRUE ELSE RETURN FALSE\\\n",
    "IF I IS AN EQUILIBRIUM INDEX THEN SUM OF ELEMENTS IN THE LEFT OF I = SUM OF ELEMENTS IN RIGHT OF I\n"
   ]
  },
  {
   "cell_type": "code",
   "execution_count": 17,
   "id": "6ea0ed67-48ff-47cb-8c15-885296bd597a",
   "metadata": {},
   "outputs": [
    {
     "name": "stdout",
     "output_type": "stream",
     "text": [
      "DNE\n"
     ]
    }
   ],
   "source": [
    "def equilibriumIndex(arr):\n",
    "    for i in range(0,len(arr)):\n",
    "        leftSum=0\n",
    "        for j in range(0,i):\n",
    "            leftSum+=arr[j]\n",
    "        rightSum=0\n",
    "        for k in range(i+1,len(arr)):\n",
    "            rightSum+=arr[k]\n",
    "        if rightSum==leftSum:\n",
    "            print(i)\n",
    "            return True  \n",
    "    return False\n",
    "indexStatus=equilibriumIndex([5,6])\n",
    "if indexStatus:\n",
    "    print(\"Equilibrum Status Exists\")\n",
    "else:\n",
    "    print(\"DNE\")\n"
   ]
  },
  {
   "cell_type": "markdown",
   "id": "d5e175db-8295-4246-aa0d-3f2110ee833b",
   "metadata": {},
   "source": [
    "## TIME COMPLEXITY OF equilibriumIndex IS O(N2)"
   ]
  },
  {
   "cell_type": "code",
   "execution_count": 29,
   "id": "f1a0e18b-f7c3-485b-9937-cf1c3ad25aa0",
   "metadata": {},
   "outputs": [
    {
     "name": "stdout",
     "output_type": "stream",
     "text": [
      "[1, 3, 6, 10, 15, 22, 37]\n",
      "5\n",
      "Equilibrum Status Exists\n"
     ]
    }
   ],
   "source": [
    "def optimisedequilibriumIndex(arr):\n",
    "    prefixSum=[arr[0]]\n",
    "    for i in range(1,len(arr)):\n",
    "        prefixSum.append(arr[i]+prefixSum[i-1])\n",
    "    print(prefixSum)\n",
    "    for i in range(len(arr)):\n",
    "        leftSum=prefixSum[i-1]\n",
    "        rightSum=prefixSum[len(arr)-1]-prefixSum[i]\n",
    "        if leftSum==rightSum:\n",
    "            print(i)\n",
    "            return True\n",
    "    return False\n",
    "\n",
    "indexStatus=optimisedequilibriumIndex([1,2,3,4,5,7,15])\n",
    "if indexStatus:\n",
    "    print(\"Equilibrum Status Exists\")\n",
    "else:\n",
    "    print(\"DNE\")\n",
    "    "
   ]
  },
  {
   "cell_type": "markdown",
   "id": "54fe7410-aae2-461e-8587-a922fd8bd931",
   "metadata": {},
   "source": [
    "## TIME COMPLEXITY OF optimisedequilibriumIndex IS O(N) AND SPACE COMPLEXITY IS ALSO O(N)"
   ]
  },
  {
   "cell_type": "code",
   "execution_count": 41,
   "id": "1358776d-b1b4-4c66-8e1b-eb058e0f696f",
   "metadata": {},
   "outputs": [
    {
     "name": "stdout",
     "output_type": "stream",
     "text": [
      "5\n",
      "Equilibrum Status Exists\n"
     ]
    }
   ],
   "source": [
    "def furtheroptimisedequilibriumIndex(arr):\n",
    "    total=0\n",
    "    for i in arr:\n",
    "        total+=i\n",
    "    leftSum=0\n",
    "    for j in range(len(arr)):\n",
    "        rightSum=total-leftSum-arr[j]\n",
    "        if rightSum==leftSum:\n",
    "            print(j)\n",
    "            return True\n",
    "        leftSum+=arr[j]\n",
    "    return False\n",
    "indexStatus=furtheroptimisedequilibriumIndex([1,2,3,4,5,7,15])\n",
    "if indexStatus:\n",
    "    print(\"Equilibrum Status Exists\")\n",
    "else:\n",
    "    print(\"DNE\")"
   ]
  },
  {
   "cell_type": "markdown",
   "id": "fd0e68cd-1d81-421e-bf2d-e8a57a8a8ae8",
   "metadata": {},
   "source": [
    "## TIME COMPLEXITY OF furtheroptimisedequilibriumIndex IS O(N) ANS SPACE COMPLEXITY IS O(1)"
   ]
  },
  {
   "cell_type": "code",
   "execution_count": null,
   "id": "5b462899-75ad-43ea-9c77-67bbc05dbf2a",
   "metadata": {},
   "outputs": [],
   "source": []
  }
 ],
 "metadata": {
  "kernelspec": {
   "display_name": "Python 3 (ipykernel)",
   "language": "python",
   "name": "python3"
  },
  "language_info": {
   "codemirror_mode": {
    "name": "ipython",
    "version": 3
   },
   "file_extension": ".py",
   "mimetype": "text/x-python",
   "name": "python",
   "nbconvert_exporter": "python",
   "pygments_lexer": "ipython3",
   "version": "3.11.7"
  }
 },
 "nbformat": 4,
 "nbformat_minor": 5
}
