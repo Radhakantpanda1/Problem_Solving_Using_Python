{
 "cells": [
  {
   "cell_type": "markdown",
   "id": "e915a5dd-c650-4412-aa7d-6f425af8b1ce",
   "metadata": {},
   "source": [
    "# SUB ARRAYS"
   ]
  },
  {
   "cell_type": "markdown",
   "id": "6f31587a-0755-40ad-b00a-219ca74e19bb",
   "metadata": {},
   "source": [
    "## Print all the sub arrays"
   ]
  },
  {
   "cell_type": "code",
   "execution_count": 11,
   "id": "0b00f198-014d-420e-996b-ae2a5ead91f6",
   "metadata": {},
   "outputs": [],
   "source": [
    "def printSubArrays(arr):\n",
    "    for s in range(len(arr)):\n",
    "        for e in range(s,len(arr)):\n",
    "            print('[',end='')\n",
    "            for k in range(s,e+1):\n",
    "                print(arr[k],end=' , ')\n",
    "            print(']')\n",
    "        print()"
   ]
  },
  {
   "cell_type": "code",
   "execution_count": 9,
   "id": "2509ad40-8c3b-4782-a018-ec9dc86610bd",
   "metadata": {},
   "outputs": [
    {
     "name": "stdout",
     "output_type": "stream",
     "text": [
      "[\n",
      "1 , ]\n",
      "[\n",
      "1 , 2 , ]\n",
      "[\n",
      "1 , 2 , 3 , ]\n",
      "[\n",
      "1 , 2 , 3 , 4 , ]\n",
      "[\n",
      "1 , 2 , 3 , 4 , 5 , ]\n",
      "[\n",
      "1 , 2 , 3 , 4 , 5 , 6 , ]\n",
      "[\n",
      "1 , 2 , 3 , 4 , 5 , 6 , 7 , ]\n",
      "[\n",
      "1 , 2 , 3 , 4 , 5 , 6 , 7 , 8 , ]\n",
      "[\n",
      "1 , 2 , 3 , 4 , 5 , 6 , 7 , 8 , 9 , ]\n",
      "\n",
      "[\n",
      "2 , ]\n",
      "[\n",
      "2 , 3 , ]\n",
      "[\n",
      "2 , 3 , 4 , ]\n",
      "[\n",
      "2 , 3 , 4 , 5 , ]\n",
      "[\n",
      "2 , 3 , 4 , 5 , 6 , ]\n",
      "[\n",
      "2 , 3 , 4 , 5 , 6 , 7 , ]\n",
      "[\n",
      "2 , 3 , 4 , 5 , 6 , 7 , 8 , ]\n",
      "[\n",
      "2 , 3 , 4 , 5 , 6 , 7 , 8 , 9 , ]\n",
      "\n",
      "[\n",
      "3 , ]\n",
      "[\n",
      "3 , 4 , ]\n",
      "[\n",
      "3 , 4 , 5 , ]\n",
      "[\n",
      "3 , 4 , 5 , 6 , ]\n",
      "[\n",
      "3 , 4 , 5 , 6 , 7 , ]\n",
      "[\n",
      "3 , 4 , 5 , 6 , 7 , 8 , ]\n",
      "[\n",
      "3 , 4 , 5 , 6 , 7 , 8 , 9 , ]\n",
      "\n",
      "[\n",
      "4 , ]\n",
      "[\n",
      "4 , 5 , ]\n",
      "[\n",
      "4 , 5 , 6 , ]\n",
      "[\n",
      "4 , 5 , 6 , 7 , ]\n",
      "[\n",
      "4 , 5 , 6 , 7 , 8 , ]\n",
      "[\n",
      "4 , 5 , 6 , 7 , 8 , 9 , ]\n",
      "\n",
      "[\n",
      "5 , ]\n",
      "[\n",
      "5 , 6 , ]\n",
      "[\n",
      "5 , 6 , 7 , ]\n",
      "[\n",
      "5 , 6 , 7 , 8 , ]\n",
      "[\n",
      "5 , 6 , 7 , 8 , 9 , ]\n",
      "\n",
      "[\n",
      "6 , ]\n",
      "[\n",
      "6 , 7 , ]\n",
      "[\n",
      "6 , 7 , 8 , ]\n",
      "[\n",
      "6 , 7 , 8 , 9 , ]\n",
      "\n",
      "[\n",
      "7 , ]\n",
      "[\n",
      "7 , 8 , ]\n",
      "[\n",
      "7 , 8 , 9 , ]\n",
      "\n",
      "[\n",
      "8 , ]\n",
      "[\n",
      "8 , 9 , ]\n",
      "\n",
      "[\n",
      "9 , ]\n",
      "\n"
     ]
    }
   ],
   "source": [
    "printSubArrays([1,2,3,4,5,6,7,8,9])"
   ]
  },
  {
   "cell_type": "code",
   "execution_count": 19,
   "id": "094db57f-7b41-4f89-bcf5-cb2373856c5e",
   "metadata": {},
   "outputs": [
    {
     "name": "stdout",
     "output_type": "stream",
     "text": [
      "Si= 2\n",
      "ei= 7\n",
      "sum= 140\n"
     ]
    }
   ],
   "source": [
    "def maxSumSubArray(arr):\n",
    "    sumOfSubArr=-float('inf')\n",
    "    si=-1\n",
    "    ei=-1\n",
    "    for s in range(len(arr)):\n",
    "        for e in range(s,len(arr)):\n",
    "            tempsumOfSubArr=0\n",
    "            for k in range(s,e+1):\n",
    "                tempsumOfSubArr+=arr[k]\n",
    "            if tempsumOfSubArr>sumOfSubArr:\n",
    "                si=s\n",
    "                ei=e\n",
    "                sumOfSubArr=tempsumOfSubArr\n",
    "    print(\"Si=\",si)\n",
    "    print(\"ei=\",ei)\n",
    "    print(\"sum=\",sumOfSubArr)\n",
    "maxSumSubArray([5,-10,100,-20,15,-10,25,30])\n",
    "            "
   ]
  },
  {
   "cell_type": "code",
   "execution_count": null,
   "id": "ec09bf57-14db-430b-8b16-ef3ece9c9ffc",
   "metadata": {},
   "outputs": [],
   "source": []
  },
  {
   "cell_type": "markdown",
   "id": "f3755b8b-0dd3-4d85-8931-214ff06cef1d",
   "metadata": {},
   "source": [
    "## MAX SUB ARRAY SUM WITH LENGTH K"
   ]
  },
  {
   "cell_type": "code",
   "execution_count": 37,
   "id": "d41094f4-1f2b-4fdd-bc69-9c5fdb440301",
   "metadata": {},
   "outputs": [
    {
     "name": "stdout",
     "output_type": "stream",
     "text": [
      "si 2\n",
      "ei 7\n",
      "finalsum 140\n"
     ]
    }
   ],
   "source": [
    "def maxSubArrayWithLenK(arr,lenn):\n",
    "    finalSum=-float('inf')\n",
    "    si=-1\n",
    "    ei=-1\n",
    "    for i in range(0,len(arr)-lenn+1):\n",
    "        sum=0\n",
    "        for j in range(i,i+lenn):\n",
    "            sum+=arr[j]\n",
    "        if sum>finalSum:\n",
    "            si=i\n",
    "            ei=i+lenn-1\n",
    "            finalSum=sum\n",
    "    print('si',si)\n",
    "    print('ei',ei)\n",
    "    print('finalsum',finalSum)\n",
    "maxSubArrayWithLenK([5,-10,100,-20,15,-10,25,30],6)"
   ]
  },
  {
   "cell_type": "code",
   "execution_count": null,
   "id": "f62727ba-bb36-4000-80fd-77d5dd7ab939",
   "metadata": {},
   "outputs": [],
   "source": []
  },
  {
   "cell_type": "code",
   "execution_count": 71,
   "id": "24362e7d-bdfb-44d4-ac97-98a261d5e3ff",
   "metadata": {},
   "outputs": [
    {
     "name": "stdout",
     "output_type": "stream",
     "text": [
      "[5, -5, 95, 75, 90, 80, 105, 135]\n",
      "140\n",
      "[2, 3, 3, -3, 5, 8, 10, 14]\n",
      "17\n"
     ]
    }
   ],
   "source": [
    "def optimisedmaxSubArrayWithLenK(arr,leng):\n",
    "    prefixArray=[arr[0]]\n",
    "    for i in range(1,len(arr)):\n",
    "        prefixArray.append(arr[i]+prefixArray[i-1])\n",
    "    print(prefixArray)\n",
    "    maxSum=-float('inf')\n",
    "    for i in range(0,len(arr)-leng+1):\n",
    "        if i==0:\n",
    "            sumof=prefixArray[i+leng-1]\n",
    "        else:\n",
    "            sumof=prefixArray[i+leng-1]-prefixArray[i-1]\n",
    "        if sumof>maxSum:\n",
    "            maxSum=sumof\n",
    "    return maxSum\n",
    "res=optimisedmaxSubArrayWithLenK([5,-10,100,-20,15,-10,25,30],6)\n",
    "print(res)\n",
    "res=optimisedmaxSubArrayWithLenK([2,1,0,-6,8,3,2,4],4)\n",
    "print(res)"
   ]
  },
  {
   "cell_type": "markdown",
   "id": "2d645bdc-d487-4968-83a5-f93ffb94ac62",
   "metadata": {},
   "source": [
    "### TIME COMPLEXITY OF optimisedmaxSubArrayWithLenK IS O(N) AND SPACE COMPLEXITY IS O(N)"
   ]
  },
  {
   "cell_type": "code",
   "execution_count": 69,
   "id": "92bbf81d-4833-4353-8bd5-34f1c19df133",
   "metadata": {},
   "outputs": [
    {
     "name": "stdout",
     "output_type": "stream",
     "text": [
      "80\n",
      "140\n",
      "-3\n",
      "17\n"
     ]
    }
   ],
   "source": [
    "def furtheroptimisedmaxSubArrayWithLenK(arr,k):\n",
    "    finalSum=-float('inf')\n",
    "    sone=0\n",
    "    \n",
    "    for i in range(k):\n",
    "        sone+=arr[i]\n",
    "    finalSum=sone\n",
    "    print(sone)\n",
    "    for j in range(1,len(arr)-k+1):\n",
    "        sone=sone-arr[j-1]+arr[k+j-1]\n",
    "    if sone>finalSum:\n",
    "        finalSum=sone\n",
    "    return finalSum\n",
    "\n",
    "res=furtheroptimisedmaxSubArrayWithLenK([5,-10,100,-20,15,-10,25,30],6)\n",
    "print(res)\n",
    "res=furtheroptimisedmaxSubArrayWithLenK([2,1,0,-6,8,3,2,4],4)\n",
    "print(res)"
   ]
  },
  {
   "cell_type": "markdown",
   "id": "7e694564-c4ba-4361-9081-63d15454e9a8",
   "metadata": {},
   "source": [
    "## TC OF furtheroptimisedmaxSubArrayWithLenK IS O(N) ANS SC IS O(1)"
   ]
  },
  {
   "cell_type": "code",
   "execution_count": null,
   "id": "2822246f-95f2-4302-afce-3410b72bc006",
   "metadata": {},
   "outputs": [],
   "source": []
  }
 ],
 "metadata": {
  "kernelspec": {
   "display_name": "Python 3 (ipykernel)",
   "language": "python",
   "name": "python3"
  },
  "language_info": {
   "codemirror_mode": {
    "name": "ipython",
    "version": 3
   },
   "file_extension": ".py",
   "mimetype": "text/x-python",
   "name": "python",
   "nbconvert_exporter": "python",
   "pygments_lexer": "ipython3",
   "version": "3.11.7"
  }
 },
 "nbformat": 4,
 "nbformat_minor": 5
}
