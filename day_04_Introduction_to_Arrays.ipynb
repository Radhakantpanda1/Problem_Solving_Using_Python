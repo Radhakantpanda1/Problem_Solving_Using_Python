{
 "cells": [
  {
   "cell_type": "markdown",
   "id": "721efe04-7fed-46a5-8295-688f4102db11",
   "metadata": {},
   "source": [
    "# Introduction To Arrays"
   ]
  },
  {
   "cell_type": "code",
   "execution_count": 2,
   "id": "19e04afe-0a18-4e2d-9254-4839dbeb4d7b",
   "metadata": {},
   "outputs": [
    {
     "name": "stdin",
     "output_type": "stream",
     "text": [
      "Enter the lrngth- 10\n"
     ]
    },
    {
     "name": "stdout",
     "output_type": "stream",
     "text": [
      "[1, 4, 9, 16, 25, 36, 49, 64, 81, 100]\n"
     ]
    }
   ],
   "source": [
    "squares_of_num=[]\n",
    "length=int(input(\"Enter the length-\"))\n",
    "for i in range(1,length+1):\n",
    "    squares_of_num.append(i**2)\n",
    "print(squares_of_num)"
   ]
  },
  {
   "cell_type": "code",
   "execution_count": 4,
   "id": "04f54826-a027-41fe-a435-eaae5b7b8ef1",
   "metadata": {},
   "outputs": [
    {
     "name": "stdout",
     "output_type": "stream",
     "text": [
      "10\n"
     ]
    }
   ],
   "source": [
    "print(len(squares_of_num))"
   ]
  },
  {
   "cell_type": "code",
   "execution_count": 10,
   "id": "dde192e0-b127-4bbe-a901-c1b2822f568d",
   "metadata": {},
   "outputs": [
    {
     "name": "stdout",
     "output_type": "stream",
     "text": [
      "64\n"
     ]
    }
   ],
   "source": [
    "print(squares_of_num[-3])"
   ]
  },
  {
   "cell_type": "markdown",
   "id": "15cc518f-862e-42c1-8718-d3f283acb079",
   "metadata": {},
   "source": [
    "## Sum of elements"
   ]
  },
  {
   "cell_type": "code",
   "execution_count": 19,
   "id": "6588dac4-9cfe-44fa-8b01-7af09420c263",
   "metadata": {},
   "outputs": [
    {
     "name": "stdout",
     "output_type": "stream",
     "text": [
      "385\n"
     ]
    }
   ],
   "source": [
    "sum=0\n",
    "for i in squares_of_num:\n",
    "    sum+=i\n",
    "print(sum)"
   ]
  },
  {
   "cell_type": "markdown",
   "id": "bed135ff-e676-4641-818f-fc0e9d5f4988",
   "metadata": {},
   "source": [
    "## GIVEN N ELEMENTS IN AN LIST COUNT THE NUMBER OF ELEMENTS WHICH HAS ATLEAST 1 ELEMENT GREATER THAN ITSELF PRESENT IN THE LIST"
   ]
  },
  {
   "cell_type": "code",
   "execution_count": 88,
   "id": "5e0cc130-229b-49ca-96c9-173838b9cfd5",
   "metadata": {},
   "outputs": [
    {
     "name": "stdout",
     "output_type": "stream",
     "text": [
      "{5}\n",
      "{5: 0}\n",
      "{5: 0}\n",
      "dict_values([0])\n",
      "0\n"
     ]
    }
   ],
   "source": [
    "def countElem(n):\n",
    "    tempSet=set(n)\n",
    "    print(tempSet)\n",
    "    tempDict={}\n",
    "    for i in tempSet:\n",
    "        tempDict[i]=0\n",
    "    print(tempDict)\n",
    "    for i in n :\n",
    "        for j in n:\n",
    "            if j>i:\n",
    "                tempDict[i]+=1\n",
    "    print(tempDict)\n",
    "    count=0\n",
    "    print(tempDict.values())\n",
    "    for i in n:\n",
    "        if tempDict[i]>0:\n",
    "            count+=1\n",
    "    return count\n",
    "        \n",
    "# n=[2,5,1,4,8,0,8,1,3,8]\n",
    "n = [5, 5, 5, 5]\n",
    "\n",
    "ans=countElem(n)\n",
    "print(ans)"
   ]
  },
  {
   "cell_type": "code",
   "execution_count": 84,
   "id": "e1ac935f-a3fc-4235-9316-d22a065459b0",
   "metadata": {},
   "outputs": [
    {
     "name": "stdout",
     "output_type": "stream",
     "text": [
      "7\n"
     ]
    }
   ],
   "source": [
    "def findCount(n):\n",
    "    count =0\n",
    "    for x in n:\n",
    "        hasLarger=False\n",
    "        for y in n:\n",
    "            if y>x:\n",
    "                hasLarger=True\n",
    "        if hasLarger:\n",
    "            count +=1\n",
    "    return count\n",
    "ans=findCount(n)\n",
    "print(ans)\n",
    "                "
   ]
  },
  {
   "cell_type": "code",
   "execution_count": 90,
   "id": "f81a6851-56ee-41d6-a04a-be7e31898b89",
   "metadata": {},
   "outputs": [
    {
     "name": "stdout",
     "output_type": "stream",
     "text": [
      "0\n"
     ]
    }
   ],
   "source": [
    "def optimisedFindCount(arr):\n",
    "    maxval=arr[0]\n",
    "    for val in arr:\n",
    "        if val>maxval:\n",
    "            maxval=val\n",
    "    maxcount=0\n",
    "    for i in arr:\n",
    "        if i==maxval:\n",
    "            maxcount+=1\n",
    "    return len(arr)-maxcount\n",
    "ans=findCount(n)\n",
    "print(ans)"
   ]
  },
  {
   "cell_type": "markdown",
   "id": "80539ebb-80f0-4ade-abc0-893a460d6f2b",
   "metadata": {},
   "source": [
    "## Given An Array Or List Reverse It"
   ]
  },
  {
   "cell_type": "code",
   "execution_count": 63,
   "id": "6c440934-85d1-4f52-9b27-9fdcd20d5e73",
   "metadata": {},
   "outputs": [
    {
     "name": "stdout",
     "output_type": "stream",
     "text": [
      "[9, 8, 7, 6, 4, 3, 2, 1]\n"
     ]
    }
   ],
   "source": [
    "def reverseArray(arr):\n",
    "    i=0\n",
    "    j=len(arr)-1\n",
    "    while i<=j:\n",
    "        arr[i],arr[j]=arr[j],arr[i]\n",
    "        i+=1\n",
    "        j-=1\n",
    "    return arr\n",
    "ans=reverseArray([1,2,3,4,6,7,8,9])\n",
    "print(ans)"
   ]
  },
  {
   "cell_type": "code",
   "execution_count": 79,
   "id": "94ef3257-ec7e-4b30-b81b-e62a8cef2f4a",
   "metadata": {},
   "outputs": [
    {
     "name": "stdout",
     "output_type": "stream",
     "text": [
      "[9, 8, 7, 6, 5, 4, 3, 2, 1]\n"
     ]
    }
   ],
   "source": [
    "def reverseArray2(arr):\n",
    "    reversedArr=[]\n",
    "    for i in range(len(arr)-1,-1,-1):\n",
    "        reversedArr.append(arr[i])\n",
    "    return reversedArr\n",
    "ans=reverseArray2([1,2,3,4,5,6,7,8,9])\n",
    "print(ans)\n"
   ]
  },
  {
   "cell_type": "markdown",
   "id": "2d9bb91a-627e-4211-99ac-5650f49fff25",
   "metadata": {},
   "source": [
    "## The reverseArray2 has T.C O(N) AND S.C O(N) WHEREAS reverseArray HAS T.C O(N) ANS S.C O(1)"
   ]
  },
  {
   "cell_type": "code",
   "execution_count": null,
   "id": "0b60fee7-2eef-4653-8d7e-0b4a02abf7ba",
   "metadata": {},
   "outputs": [],
   "source": []
  }
 ],
 "metadata": {
  "kernelspec": {
   "display_name": "Python 3 (ipykernel)",
   "language": "python",
   "name": "python3"
  },
  "language_info": {
   "codemirror_mode": {
    "name": "ipython",
    "version": 3
   },
   "file_extension": ".py",
   "mimetype": "text/x-python",
   "name": "python",
   "nbconvert_exporter": "python",
   "pygments_lexer": "ipython3",
   "version": "3.11.7"
  }
 },
 "nbformat": 4,
 "nbformat_minor": 5
}
