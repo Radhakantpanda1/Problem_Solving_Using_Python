{
 "cells": [
  {
   "cell_type": "markdown",
   "id": "f073e534-3abe-4960-8e88-9f520bcf5398",
   "metadata": {},
   "source": [
    "# Longest Sub-Array with Sum K"
   ]
  },
  {
   "cell_type": "markdown",
   "id": "66692fb1-ebbd-43d6-8cb9-0e8423ba2ecb",
   "metadata": {},
   "source": [
    "Given an array arr[] containing integers and an integer k, your task is to find the\\\n",
    "length of the longest subarray where the sum of its elements is equal to the given value k.\\\n",
    "It is guaranteed that a valid subarray exists."
   ]
  },
  {
   "cell_type": "code",
   "execution_count": 26,
   "id": "8e865ae1-9c3e-4623-b3f7-eb56c5f5c8ee",
   "metadata": {},
   "outputs": [
    {
     "name": "stdout",
     "output_type": "stream",
     "text": [
      "4\n"
     ]
    }
   ],
   "source": [
    "def longestSubArrayWithSumK(arr,k):\n",
    "    finalen=-float('inf')\n",
    "    for s in range(len(arr)):\n",
    "        for e in range(s,len(arr)):\n",
    "            sum=0\n",
    "            for l in range(s,e+1):\n",
    "                sum+=arr[l]\n",
    "            if sum == k:\n",
    "                lenn=e-s+1\n",
    "                finalen=max(finalen,lenn)\n",
    "    return finalen\n",
    "ans=longestSubArrayWithSumK([10, 5, 2, 7, 1, 9],15)\n",
    "print(ans)"
   ]
  },
  {
   "cell_type": "markdown",
   "id": "8501c647-ae1b-4d52-ac5e-f99fea3dbe9a",
   "metadata": {},
   "source": [
    "## longestSubArrayWithSumK TC IS O(N3) ANS SC IS O(1)"
   ]
  },
  {
   "cell_type": "code",
   "execution_count": 40,
   "id": "18133a71-53a3-4fcb-b4a9-465141bba7ea",
   "metadata": {},
   "outputs": [
    {
     "name": "stdout",
     "output_type": "stream",
     "text": [
      "3\n"
     ]
    }
   ],
   "source": [
    "def optimisedlongestSubArrayWithSumK(arr,k):\n",
    "    prefix=[arr[0]]\n",
    "    ml=-float('inf')\n",
    "    for i in range(1,len(arr)):\n",
    "        prefix.append(prefix[i-1]+arr[i])\n",
    "    for s in range(len(arr)):\n",
    "        for e in range(s,len(arr)):\n",
    "            sum=0\n",
    "            if s==0:\n",
    "                sum=prefix[e]\n",
    "            else:\n",
    "                sum=prefix[e]-prefix[s-1]\n",
    "            if sum==k:\n",
    "                l=e-s+1\n",
    "                ml=max(ml,l)\n",
    "    return ml\n",
    "ans=optimisedlongestSubArrayWithSumK([10, 5, 2, 7, 1, 9],10)\n",
    "print(ans)"
   ]
  },
  {
   "cell_type": "markdown",
   "id": "6998c005-cdf1-4249-8289-3eeaef861db5",
   "metadata": {},
   "source": [
    "## TC IS O(N2) AND SC O(N)"
   ]
  },
  {
   "cell_type": "code",
   "execution_count": null,
   "id": "d7220221-35ca-4842-9905-f74bfc3a600c",
   "metadata": {},
   "outputs": [],
   "source": []
  }
 ],
 "metadata": {
  "kernelspec": {
   "display_name": "Python 3 (ipykernel)",
   "language": "python",
   "name": "python3"
  },
  "language_info": {
   "codemirror_mode": {
    "name": "ipython",
    "version": 3
   },
   "file_extension": ".py",
   "mimetype": "text/x-python",
   "name": "python",
   "nbconvert_exporter": "python",
   "pygments_lexer": "ipython3",
   "version": "3.11.7"
  }
 },
 "nbformat": 4,
 "nbformat_minor": 5
}
