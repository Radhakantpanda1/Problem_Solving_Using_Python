{
 "cells": [
  {
   "cell_type": "markdown",
   "id": "867ba094-3384-4626-95fd-19044c141f85",
   "metadata": {},
   "source": [
    "## Need For Problem Solving"
   ]
  },
  {
   "cell_type": "markdown",
   "id": "7d53b614-41ae-448b-9b52-124b675e86f5",
   "metadata": {},
   "source": [
    "### Prime number - numbers with exactly 2 factors"
   ]
  },
  {
   "cell_type": "markdown",
   "id": "0f38d786-d075-4536-966e-3563ab44d803",
   "metadata": {},
   "source": [
    "1 is neither prime nor composite"
   ]
  },
  {
   "cell_type": "markdown",
   "id": "35306c8d-2391-49e2-aa5a-6163f86ecff7",
   "metadata": {},
   "source": [
    "Is a number having 1 and number itself as factor is Prime ?\\\n",
    "No it's not prime numbers have exactly 2 factors "
   ]
  },
  {
   "cell_type": "markdown",
   "id": "d42a711a-0b84-424d-af05-5a67b11e44a8",
   "metadata": {},
   "source": [
    "## WAP to check whether a given number is prime or not"
   ]
  },
  {
   "cell_type": "markdown",
   "id": "1fc8c45c-10ff-46cf-bca5-fb21a34c2083",
   "metadata": {},
   "source": [
    "## Approach One"
   ]
  },
  {
   "cell_type": "code",
   "execution_count": 26,
   "id": "c4bd09f1-d8d1-4c35-8707-76387847b33d",
   "metadata": {},
   "outputs": [
    {
     "name": "stdout",
     "output_type": "stream",
     "text": [
      "Not a Prime Number\n"
     ]
    }
   ],
   "source": [
    "def isPrime(number):\n",
    "    count =0\n",
    "    for factor in range(1,number+1):\n",
    "        if number % factor ==0:\n",
    "            count +=1\n",
    "    return count==2\n",
    "number=int(input(\"Enter the number\"))\n",
    "num=isPrime(number)\n",
    "if num:\n",
    "    print(\"Prime\")\n",
    "else:\n",
    "    print(\"Not a Prime Number\")\n",
    "\n",
    "# Time Complexity is O(N2)"
   ]
  },
  {
   "cell_type": "markdown",
   "id": "d473718c-fe20-4b76-8c5d-66642065c7fd",
   "metadata": {},
   "source": [
    "## Optimised Approach"
   ]
  },
  {
   "cell_type": "code",
   "execution_count": 71,
   "id": "4a0545ae-a7d5-4e99-bfbd-2f620cf8e3b4",
   "metadata": {},
   "outputs": [
    {
     "name": "stdin",
     "output_type": "stream",
     "text": [
      "Enter the number 15789\n"
     ]
    },
    {
     "name": "stdout",
     "output_type": "stream",
     "text": [
      "Not a Prime Number\n"
     ]
    }
   ],
   "source": [
    "import math\n",
    "def isPrimeOpt(number):\n",
    "    count=0\n",
    "    for fact in range(1,math.floor(number**0.5)+1):\n",
    "        if number % fact==0:\n",
    "            count +=2\n",
    "    return count ==2\n",
    "\n",
    "number=int(input(\"Enter the number\"))\n",
    "num=isPrimeOpt(number)\n",
    "if num:\n",
    "    print(\"Prime\")\n",
    "else:\n",
    "    print(\"Not a Prime Number\")\n",
    "\n",
    "# Time Complexity is O(sqrt(n))\n"
   ]
  },
  {
   "cell_type": "code",
   "execution_count": 73,
   "id": "bc618f91-3522-46eb-8f3f-7b81851d6b01",
   "metadata": {},
   "outputs": [
    {
     "name": "stdin",
     "output_type": "stream",
     "text": [
      "Enter the number 15789\n"
     ]
    },
    {
     "name": "stdout",
     "output_type": "stream",
     "text": [
      "Not a Prime Number\n"
     ]
    }
   ],
   "source": [
    "import math\n",
    "def isPrimeOpt(number):\n",
    "    count=0\n",
    "    for fact in range(2,math.floor(number**0.5)+1):\n",
    "        if number % fact==0:\n",
    "            return False\n",
    "    return True\n",
    "\n",
    "number=int(input(\"Enter the number\"))\n",
    "num=isPrimeOpt(number)\n",
    "if num:\n",
    "    print(\"Prime\")\n",
    "else:\n",
    "    print(\"Not a Prime Number\")\n",
    "\n",
    "# Time Complexity is O(sqrt(n))\n"
   ]
  },
  {
   "cell_type": "code",
   "execution_count": null,
   "id": "c995f361-6742-41ba-801a-83600882b93a",
   "metadata": {},
   "outputs": [],
   "source": []
  },
  {
   "cell_type": "markdown",
   "id": "54221d47-def7-472f-8732-56f27a041b84",
   "metadata": {},
   "source": [
    "# Finding Square Root Of A number"
   ]
  },
  {
   "cell_type": "markdown",
   "id": "ac56935d-2d2c-4eb1-84bc-6108c690f6ea",
   "metadata": {},
   "source": [
    "Approach 1"
   ]
  },
  {
   "cell_type": "code",
   "execution_count": 87,
   "id": "038aafd2-2bda-46ac-aa77-72c9a8d9d394",
   "metadata": {},
   "outputs": [
    {
     "name": "stdin",
     "output_type": "stream",
     "text": [
      "Enter the number- 10\n"
     ]
    },
    {
     "name": "stdout",
     "output_type": "stream",
     "text": [
      "0\n"
     ]
    }
   ],
   "source": [
    "def findSqrt(num):\n",
    "    for i in range(1,num+1):\n",
    "        if i*i==num:\n",
    "            return i\n",
    "    return 0\n",
    "\n",
    "num=int(input(\"Enter the number-\"))\n",
    "res=findSqrt(num)\n",
    "print(res)\n",
    "\n",
    "# Works only for prefect squares only"
   ]
  },
  {
   "cell_type": "markdown",
   "id": "485c9df7-30a8-4693-9d3f-5aa5a29c6465",
   "metadata": {},
   "source": [
    "Approach 2"
   ]
  },
  {
   "cell_type": "code",
   "execution_count": 100,
   "id": "aee72532-45c0-45ec-b03c-f93af5427fd4",
   "metadata": {},
   "outputs": [
    {
     "name": "stdin",
     "output_type": "stream",
     "text": [
      "Enter the number- 1024\n"
     ]
    },
    {
     "name": "stdout",
     "output_type": "stream",
     "text": [
      "32\n"
     ]
    }
   ],
   "source": [
    "def findSqrt2(num):\n",
    "    temp =0\n",
    "    for i in range(1,num+1):\n",
    "        if i*i==num:\n",
    "            return i\n",
    "        elif i*i<num:\n",
    "            temp=i\n",
    "        else:\n",
    "            return temp\n",
    "    return 0\n",
    "num=int(input(\"Enter the number-\"))\n",
    "res=findSqrt2(num)\n",
    "print(res)\n",
    "\n",
    "# gives the integral value of sqrt   Time Complexity = O(n)"
   ]
  },
  {
   "cell_type": "markdown",
   "id": "2ef0bbaa-a9b1-47cd-a25d-ea7bafed25aa",
   "metadata": {},
   "source": [
    "Optimization"
   ]
  },
  {
   "cell_type": "code",
   "execution_count": 121,
   "id": "f2722cc7-85e5-4ae8-8546-182281323a6f",
   "metadata": {},
   "outputs": [
    {
     "name": "stdin",
     "output_type": "stream",
     "text": [
      "Enter the number- 169\n"
     ]
    },
    {
     "name": "stdout",
     "output_type": "stream",
     "text": [
      "13\n"
     ]
    }
   ],
   "source": [
    "def sqrt3(num):\n",
    "    start=1\n",
    "    end=num\n",
    "    while(start<=end):\n",
    "        mid=(start+end)//2\n",
    "        if (mid*mid==num):\n",
    "            return mid\n",
    "        elif mid*mid<num :\n",
    "            start=mid+1\n",
    "        else:\n",
    "            end=mid-1\n",
    "    return end\n",
    "num=int(input(\"Enter the number-\"))\n",
    "res=sqrt3(num)\n",
    "print(res)"
   ]
  },
  {
   "cell_type": "code",
   "execution_count": null,
   "id": "98a49a03-ac82-42b5-8711-bb2ac3b2c921",
   "metadata": {},
   "outputs": [],
   "source": []
  }
 ],
 "metadata": {
  "kernelspec": {
   "display_name": "Python 3 (ipykernel)",
   "language": "python",
   "name": "python3"
  },
  "language_info": {
   "codemirror_mode": {
    "name": "ipython",
    "version": 3
   },
   "file_extension": ".py",
   "mimetype": "text/x-python",
   "name": "python",
   "nbconvert_exporter": "python",
   "pygments_lexer": "ipython3",
   "version": "3.11.7"
  }
 },
 "nbformat": 4,
 "nbformat_minor": 5
}
